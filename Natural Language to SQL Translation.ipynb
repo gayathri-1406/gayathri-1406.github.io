{
 "cells": [
  {
   "cell_type": "code",
   "execution_count": 1,
   "id": "552a8069",
   "metadata": {},
   "outputs": [],
   "source": [
    "## Key with paid service\n",
    "\n",
    "import openai\n",
    "import panel as pn\n",
    "openai.api_key=\"XYZ\""
   ]
  },
  {
   "cell_type": "code",
   "execution_count": 2,
   "id": "f08a5312",
   "metadata": {},
   "outputs": [],
   "source": [
    "\n",
    "def continue_conversation(messages, temperature=0):\n",
    "    \n",
    "    response = openai.ChatCompletion.create( \n",
    "        model=\"gpt-3.5-turbo\",\n",
    "        messages=messages,\n",
    "        temperature=temperature, \n",
    "    )\n",
    "\n",
    "    return response.choices[0].message[\"content\"]"
   ]
  },
  {
   "cell_type": "code",
   "execution_count": 3,
   "id": "d4f7d45c",
   "metadata": {},
   "outputs": [],
   "source": [
    "context = [{'role':'system', 'content':\"\"\" \n",
    "\"\"\"}]\n",
    "\n",
    "context.append( {'role':'system', 'content':\"\"\"\n",
    "first table: \n",
    "{\n",
    "  \"tableName\": \"employees\",\n",
    "  \"fields\": [\n",
    "    {\n",
    "      \"nombre\": \"ID_usr\",\n",
    "      \"tipo\": \"int\"\n",
    "    },\n",
    "    {\n",
    "      \"nombre\": \"name\",\n",
    "      \"tipo\": \"string\"\n",
    "    }\n",
    "  ]\n",
    "}\n",
    "\"\"\"\n",
    "})\n",
    "\n",
    "context.append( {'role':'system', 'content':\"\"\"\n",
    "second table: \n",
    "{\n",
    "  \"tableName\": \"salary\",\n",
    "  \"fields\": [\n",
    "    {\n",
    "      \"nombre\": \"ID_usr\",\n",
    "      \"type\": \"int\"\n",
    "    },\n",
    "    {\n",
    "      \"yt\": \"year\",\n",
    "      \"type\": \"date\"\n",
    "    },\n",
    "    {\n",
    "      \"sal\": \"salary\",\n",
    "      \"type\": \"float\"\n",
    "    }\n",
    "  ]\n",
    "}\n",
    "\"\"\"\n",
    "})\n",
    "\n",
    "context.append( {'role':'system', 'content':\"\"\"\n",
    "third table: \n",
    "{\n",
    "  \"tablename\": \"studies\",\n",
    "  \"fields\": [\n",
    "    {\n",
    "      \"name\": \"ID\",\n",
    "      \"type\": \"int\"\n",
    "    },\n",
    "    {\n",
    "      \"ee\": \"ID_usr\",\n",
    "      \"type\": \"int\"\n",
    "    },\n",
    "    {\n",
    "      \"edu\": \"educational level\",\n",
    "      \"type\": \"int\"\n",
    "    },\n",
    "    {\n",
    "      \"name\": \"Institution\",\n",
    "      \"type\": \"string\"\n",
    "    },\n",
    "    {\n",
    "      \"yr\": \"Years\",\n",
    "      \"type\": \"date\"\n",
    "    }\n",
    "    {\n",
    "      \"spl\": \"Speciality\",\n",
    "      \"type\": \"string\"\n",
    "    }\n",
    "  ]\n",
    "}\n",
    "\n",
    "\"\"\"\n",
    "})"
   ]
  },
  {
   "cell_type": "code",
   "execution_count": 4,
   "id": "5e03d326",
   "metadata": {},
   "outputs": [],
   "source": [
    "msg=\"select empyoyees nombre whose sal is 30000 and ans have studied in the yr 2003\""
   ]
  },
  {
   "cell_type": "code",
   "execution_count": 6,
   "id": "c608fa6a",
   "metadata": {},
   "outputs": [],
   "source": [
    "context.append({'role':'user', 'content':f\"{msg}\"})\n",
    "context.append({'role':'system', 'content':f\"Remember your instructions as SQL Assistant.\"})\n",
    "response = continue_conversation(context)\n",
    "context.append({'role':'assistant', 'content':f\"{response}\"})"
   ]
  },
  {
   "cell_type": "code",
   "execution_count": 7,
   "id": "1eb0cf28",
   "metadata": {},
   "outputs": [
    {
     "data": {
      "text/plain": [
       "[{'role': 'system', 'content': ' \\n'},\n",
       " {'role': 'system',\n",
       "  'content': '\\nfirst table: \\n{\\n  \"tableName\": \"employees\",\\n  \"fields\": [\\n    {\\n      \"nombre\": \"ID_usr\",\\n      \"tipo\": \"int\"\\n    },\\n    {\\n      \"nombre\": \"name\",\\n      \"tipo\": \"string\"\\n    }\\n  ]\\n}\\n'},\n",
       " {'role': 'system',\n",
       "  'content': '\\nsecond table: \\n{\\n  \"tableName\": \"salary\",\\n  \"fields\": [\\n    {\\n      \"nombre\": \"ID_usr\",\\n      \"type\": \"int\"\\n    },\\n    {\\n      \"yt\": \"year\",\\n      \"type\": \"date\"\\n    },\\n    {\\n      \"sal\": \"salary\",\\n      \"type\": \"float\"\\n    }\\n  ]\\n}\\n'},\n",
       " {'role': 'system',\n",
       "  'content': '\\nthird table: \\n{\\n  \"tablename\": \"studies\",\\n  \"fields\": [\\n    {\\n      \"name\": \"ID\",\\n      \"type\": \"int\"\\n    },\\n    {\\n      \"ee\": \"ID_usr\",\\n      \"type\": \"int\"\\n    },\\n    {\\n      \"edu\": \"educational level\",\\n      \"type\": \"int\"\\n    },\\n    {\\n      \"name\": \"Institution\",\\n      \"type\": \"string\"\\n    },\\n    {\\n      \"yr\": \"Years\",\\n      \"type\": \"date\"\\n    }\\n    {\\n      \"spl\": \"Speciality\",\\n      \"type\": \"string\"\\n    }\\n  ]\\n}\\n\\n'},\n",
       " {'role': 'user',\n",
       "  'content': 'select empyoyees nombre whose sal is 30000 and ans have studied in the yr 2003'},\n",
       " {'role': 'system', 'content': 'Remember your instructions as SQL Assistant.'},\n",
       " {'role': 'assistant',\n",
       "  'content': \"SELECT employees.nombre \\nFROM employees \\nJOIN salary ON employees.ID_usr = salary.ID_usr \\nJOIN studies ON employees.ID_usr = studies.ID_usr \\nWHERE salary.sal = 30000 \\nAND studies.yr = '2003'\"}]"
      ]
     },
     "execution_count": 7,
     "metadata": {},
     "output_type": "execute_result"
    }
   ],
   "source": [
    "context"
   ]
  },
  {
   "cell_type": "code",
   "execution_count": 12,
   "id": "480d5355",
   "metadata": {},
   "outputs": [
    {
     "data": {
      "text/plain": [
       "\"SELECT employees.nombre FROM employees JOIN salary ON employees.ID_usr = salary.ID_usr JOIN studies ON employees.ID_usr = studies.ID_usr WHERE salary.sal = 30000 AND studies.yr = '2003'\""
      ]
     },
     "execution_count": 12,
     "metadata": {},
     "output_type": "execute_result"
    }
   ],
   "source": [
    "context[-1]['content'].replace('\\n','')"
   ]
  }
 ],
 "metadata": {
  "kernelspec": {
   "display_name": "Python 3 (ipykernel)",
   "language": "python",
   "name": "python3"
  },
  "language_info": {
   "codemirror_mode": {
    "name": "ipython",
    "version": 3
   },
   "file_extension": ".py",
   "mimetype": "text/x-python",
   "name": "python",
   "nbconvert_exporter": "python",
   "pygments_lexer": "ipython3",
   "version": "3.11.3"
  }
 },
 "nbformat": 4,
 "nbformat_minor": 5
}
